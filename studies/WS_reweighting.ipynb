{
 "cells": [
  {
   "cell_type": "markdown",
   "id": "a509b510-d56c-466f-8a00-33133aafcf89",
   "metadata": {},
   "source": [
    "## Reweighting Study - WS model"
   ]
  },
  {
   "cell_type": "code",
   "execution_count": 45,
   "id": "d5be5c63-cfa4-4cc9-afcc-25a03a08bf60",
   "metadata": {
    "scrolled": true
   },
   "outputs": [
    {
     "name": "stdout",
     "output_type": "stream",
     "text": [
      "INFO:tensorflow:Using MirroredStrategy with devices ('/job:localhost/replica:0/task:0/device:CPU:0',)\n",
      "[INFO] Created MirroredStrategy for distributed training\n",
      "[INFO] Number of devices : 1\n",
      "[INFO]      aliad version : 0.1.0\n",
      "[INFO] tensorflow version : 2.15.0\n",
      "Sat Oct  5 00:29:38 2024       \n",
      "+-----------------------------------------------------------------------------+\n",
      "| NVIDIA-SMI 525.105.17   Driver Version: 525.105.17   CUDA Version: 12.2     |\n",
      "|-------------------------------+----------------------+----------------------+\n",
      "| GPU  Name        Persistence-M| Bus-Id        Disp.A | Volatile Uncorr. ECC |\n",
      "| Fan  Temp  Perf  Pwr:Usage/Cap|         Memory-Usage | GPU-Util  Compute M. |\n",
      "|                               |                      |               MIG M. |\n",
      "|===============================+======================+======================|\n",
      "|   0  NVIDIA A100-PCI...  On   | 00000000:C3:00.0 Off |                    0 |\n",
      "| N/A   33C    P0    34W / 250W |      3MiB / 40960MiB |      0%      Default |\n",
      "|                               |                      |             Disabled |\n",
      "+-------------------------------+----------------------+----------------------+\n",
      "                                                                               \n",
      "+-----------------------------------------------------------------------------+\n",
      "| Processes:                                                                  |\n",
      "|  GPU   GI   CI        PID   Type   Process name                  GPU Memory |\n",
      "|        ID   ID                                                   Usage      |\n",
      "|=============================================================================|\n",
      "|  No running processes found                                                 |\n",
      "+-----------------------------------------------------------------------------+\n",
      "nvcc: NVIDIA (R) Cuda compiler driver\n",
      "Copyright (c) 2005-2023 NVIDIA Corporation\n",
      "Built on Tue_Jun_13_19:16:58_PDT_2023\n",
      "Cuda compilation tools, release 12.2, V12.2.91\n",
      "Build cuda_12.2.r12.2/compiler.32965470_0\n",
      "[INFO] Number of events in each dataset split:\n",
      "                              train     val    test\n",
      "QCD + extra_QCD (label = 0)  183530   91787       0\n",
      "QCD + extra_QCD (label = 1)  183530   91787       0\n",
      "W_qq                            276     138   18625\n",
      "W_qqq                           276     138   19050\n",
      "QCD                               0       0   30350\n",
      "extra_QCD                         0       0  153225\n",
      "total                        367612  183850  221250\n",
      "num_batch                       359     180     217\n"
     ]
    }
   ],
   "source": [
    "import numpy as np\n",
    "import pandas as pd\n",
    "from paws.components import ModelTrainer, ModelLoader, MetricLandscape\n",
    "\n",
    "datadir = \"/pscratch/sd/c/chlcheng/projects/paws/datasets\"\n",
    "outdir = \"/pscratch/sd/c/chlcheng/projects/paws/outputs\"\n",
    "\n",
    "m1, m2 = 300, 300\n",
    "mu = 0.003\n",
    "alpha = 0.5\n",
    "\n",
    "# declare options to create the weakly datasets\n",
    "model_options = {\n",
    "    \"mass_point\": [m1, m2],\n",
    "    \"mu\": mu,\n",
    "    \"alpha\": alpha\n",
    "}\n",
    "\n",
    "model_trainer = ModelTrainer(\"semi_weakly\", model_options=model_options, decay_modes=\"qq,qqq\",\n",
    "                             cache_test=True, variables=\"3,5,6\", noise_dimension=10, datadir=datadir, outdir=outdir)\n",
    "datasets = model_trainer.get_datasets()\n",
    "ws_model = model_trainer.get_model()\n",
    "fs2_model = model_trainer.model_loader.fs_2_model\n",
    "fs3_model = model_trainer.model_loader.fs_3_model"
   ]
  },
  {
   "cell_type": "code",
   "execution_count": 46,
   "id": "05f1b31e-8f24-40ec-821c-2b049e4e2123",
   "metadata": {
    "scrolled": true
   },
   "outputs": [
    {
     "name": "stdout",
     "output_type": "stream",
     "text": [
      "INFO:tensorflow:Using MirroredStrategy with devices ('/job:localhost/replica:0/task:0/device:CPU:0',)\n",
      "[INFO] Created MirroredStrategy for distributed training\n",
      "[INFO] Number of devices : 1\n",
      "[INFO]      aliad version : 0.1.0\n",
      "[INFO] tensorflow version : 2.15.0\n",
      "Sat Oct  5 00:29:46 2024       \n",
      "+-----------------------------------------------------------------------------+\n",
      "| NVIDIA-SMI 525.105.17   Driver Version: 525.105.17   CUDA Version: 12.2     |\n",
      "|-------------------------------+----------------------+----------------------+\n",
      "| GPU  Name        Persistence-M| Bus-Id        Disp.A | Volatile Uncorr. ECC |\n",
      "| Fan  Temp  Perf  Pwr:Usage/Cap|         Memory-Usage | GPU-Util  Compute M. |\n",
      "|                               |                      |               MIG M. |\n",
      "|===============================+======================+======================|\n",
      "|   0  NVIDIA A100-PCI...  On   | 00000000:C3:00.0 Off |                    0 |\n",
      "| N/A   33C    P0    34W / 250W |      3MiB / 40960MiB |      0%      Default |\n",
      "|                               |                      |             Disabled |\n",
      "+-------------------------------+----------------------+----------------------+\n",
      "                                                                               \n",
      "+-----------------------------------------------------------------------------+\n",
      "| Processes:                                                                  |\n",
      "|  GPU   GI   CI        PID   Type   Process name                  GPU Memory |\n",
      "|        ID   ID                                                   Usage      |\n",
      "|=============================================================================|\n",
      "|  No running processes found                                                 |\n",
      "+-----------------------------------------------------------------------------+\n",
      "nvcc: NVIDIA (R) Cuda compiler driver\n",
      "Copyright (c) 2005-2023 NVIDIA Corporation\n",
      "Built on Tue_Jun_13_19:16:58_PDT_2023\n",
      "Cuda compilation tools, release 12.2, V12.2.91\n",
      "Build cuda_12.2.r12.2/compiler.32965470_0\n",
      "INFO:tensorflow:Using MirroredStrategy with devices ('/job:localhost/replica:0/task:0/device:CPU:0',)\n",
      "[INFO] Created MirroredStrategy for distributed training\n",
      "[INFO] Number of devices : 1\n",
      "[INFO]      aliad version : 0.1.0\n",
      "[INFO] tensorflow version : 2.15.0\n",
      "Sat Oct  5 00:29:46 2024       \n",
      "+-----------------------------------------------------------------------------+\n",
      "| NVIDIA-SMI 525.105.17   Driver Version: 525.105.17   CUDA Version: 12.2     |\n",
      "|-------------------------------+----------------------+----------------------+\n",
      "| GPU  Name        Persistence-M| Bus-Id        Disp.A | Volatile Uncorr. ECC |\n",
      "| Fan  Temp  Perf  Pwr:Usage/Cap|         Memory-Usage | GPU-Util  Compute M. |\n",
      "|                               |                      |               MIG M. |\n",
      "|===============================+======================+======================|\n",
      "|   0  NVIDIA A100-PCI...  On   | 00000000:C3:00.0 Off |                    0 |\n",
      "| N/A   33C    P0    43W / 250W |      3MiB / 40960MiB |      0%      Default |\n",
      "|                               |                      |             Disabled |\n",
      "+-------------------------------+----------------------+----------------------+\n",
      "                                                                               \n",
      "+-----------------------------------------------------------------------------+\n",
      "| Processes:                                                                  |\n",
      "|  GPU   GI   CI        PID   Type   Process name                  GPU Memory |\n",
      "|        ID   ID                                                   Usage      |\n",
      "|=============================================================================|\n",
      "|  No running processes found                                                 |\n",
      "+-----------------------------------------------------------------------------+\n",
      "nvcc: NVIDIA (R) Cuda compiler driver\n",
      "Copyright (c) 2005-2023 NVIDIA Corporation\n",
      "Built on Tue_Jun_13_19:16:58_PDT_2023\n",
      "Cuda compilation tools, release 12.2, V12.2.91\n",
      "Build cuda_12.2.r12.2/compiler.32965470_0\n",
      "[INFO] Loaded model from /pscratch/sd/c/chlcheng/projects/paws/outputs/train_results/param_supervised/high_level/qq/SR_var_3_5_6_noise_0_v1/split_0/full_train_prior_ratio_sampled.keras\n",
      "[INFO] Loaded model from /pscratch/sd/c/chlcheng/projects/paws/outputs/train_results/param_supervised/high_level/qqq/SR_var_3_5_6_noise_0_v1/split_0/full_train_prior_ratio_sampled.keras\n",
      "INFO:tensorflow:Using MirroredStrategy with devices ('/job:localhost/replica:0/task:0/device:CPU:0',)\n",
      "[INFO] Created MirroredStrategy for distributed training\n",
      "[INFO] Number of devices : 1\n",
      "[INFO]      aliad version : 0.1.0\n",
      "[INFO] tensorflow version : 2.15.0\n",
      "Sat Oct  5 00:29:47 2024       \n",
      "+-----------------------------------------------------------------------------+\n",
      "| NVIDIA-SMI 525.105.17   Driver Version: 525.105.17   CUDA Version: 12.2     |\n",
      "|-------------------------------+----------------------+----------------------+\n",
      "| GPU  Name        Persistence-M| Bus-Id        Disp.A | Volatile Uncorr. ECC |\n",
      "| Fan  Temp  Perf  Pwr:Usage/Cap|         Memory-Usage | GPU-Util  Compute M. |\n",
      "|                               |                      |               MIG M. |\n",
      "|===============================+======================+======================|\n",
      "|   0  NVIDIA A100-PCI...  On   | 00000000:C3:00.0 Off |                    0 |\n",
      "| N/A   34C    P0    64W / 250W |      3MiB / 40960MiB |      0%      Default |\n",
      "|                               |                      |             Disabled |\n",
      "+-------------------------------+----------------------+----------------------+\n",
      "                                                                               \n",
      "+-----------------------------------------------------------------------------+\n",
      "| Processes:                                                                  |\n",
      "|  GPU   GI   CI        PID   Type   Process name                  GPU Memory |\n",
      "|        ID   ID                                                   Usage      |\n",
      "|=============================================================================|\n",
      "|  No running processes found                                                 |\n",
      "+-----------------------------------------------------------------------------+\n",
      "nvcc: NVIDIA (R) Cuda compiler driver\n",
      "Copyright (c) 2005-2023 NVIDIA Corporation\n",
      "Built on Tue_Jun_13_19:16:58_PDT_2023\n",
      "Cuda compilation tools, release 12.2, V12.2.91\n",
      "Build cuda_12.2.r12.2/compiler.32965470_0\n",
      "INFO:tensorflow:Using MirroredStrategy with devices ('/job:localhost/replica:0/task:0/device:CPU:0',)\n",
      "[INFO] Created MirroredStrategy for distributed training\n",
      "[INFO] Number of devices : 1\n",
      "[INFO]      aliad version : 0.1.0\n",
      "[INFO] tensorflow version : 2.15.0\n",
      "Sat Oct  5 00:29:47 2024       \n",
      "+-----------------------------------------------------------------------------+\n",
      "| NVIDIA-SMI 525.105.17   Driver Version: 525.105.17   CUDA Version: 12.2     |\n",
      "|-------------------------------+----------------------+----------------------+\n",
      "| GPU  Name        Persistence-M| Bus-Id        Disp.A | Volatile Uncorr. ECC |\n",
      "| Fan  Temp  Perf  Pwr:Usage/Cap|         Memory-Usage | GPU-Util  Compute M. |\n",
      "|                               |                      |               MIG M. |\n",
      "|===============================+======================+======================|\n",
      "|   0  NVIDIA A100-PCI...  On   | 00000000:C3:00.0 Off |                    0 |\n",
      "| N/A   34C    P0    64W / 250W |      3MiB / 40960MiB |      0%      Default |\n",
      "|                               |                      |             Disabled |\n",
      "+-------------------------------+----------------------+----------------------+\n",
      "                                                                               \n",
      "+-----------------------------------------------------------------------------+\n",
      "| Processes:                                                                  |\n",
      "|  GPU   GI   CI        PID   Type   Process name                  GPU Memory |\n",
      "|        ID   ID                                                   Usage      |\n",
      "|=============================================================================|\n",
      "|  No running processes found                                                 |\n",
      "+-----------------------------------------------------------------------------+\n",
      "nvcc: NVIDIA (R) Cuda compiler driver\n",
      "Copyright (c) 2005-2023 NVIDIA Corporation\n",
      "Built on Tue_Jun_13_19:16:58_PDT_2023\n",
      "Cuda compilation tools, release 12.2, V12.2.91\n",
      "Build cuda_12.2.r12.2/compiler.32965470_0\n",
      "[INFO] Loaded model from /pscratch/sd/c/chlcheng/projects/paws/outputs/train_results/param_supervised/high_level/qq/SR_var_3_5_6_noise_0_v1/split_0/full_train_prior_ratio_inferred.keras\n",
      "[INFO] Loaded model from /pscratch/sd/c/chlcheng/projects/paws/outputs/train_results/param_supervised/high_level/qqq/SR_var_3_5_6_noise_0_v1/split_0/full_train_prior_ratio_inferred.keras\n"
     ]
    }
   ],
   "source": [
    "prior_ratio_models = {\n",
    "    'qq': {\n",
    "    },\n",
    "    'qqq': {\n",
    "    }\n",
    "}\n",
    "model_options = {\n",
    "    'sampling_method': 'sampled'\n",
    "}\n",
    "qq_prior_trainer = ModelTrainer(\"prior_ratio\", model_options=model_options, decay_modes=\"qq\",\n",
    "                                cache_test=True, variables=\"3,5,6\", datadir=datadir, outdir=outdir)\n",
    "qqq_prior_trainer = ModelTrainer(\"prior_ratio\", model_options=model_options, decay_modes=\"qqq\",\n",
    "                                 cache_test=True, variables=\"3,5,6\", datadir=datadir, outdir=outdir)\n",
    "prior_ratio_models['qq']['sampled'] = qq_prior_trainer.load_trained_model()\n",
    "prior_ratio_models['qqq']['sampled'] = qqq_prior_trainer.load_trained_model()\n",
    "\n",
    "model_options = {\n",
    "    'sampling_method': 'inferred'\n",
    "}\n",
    "qq_prior_trainer = ModelTrainer(\"prior_ratio\", model_options=model_options, decay_modes=\"qq\",\n",
    "                                cache_test=True, variables=\"3,5,6\", datadir=datadir, outdir=outdir)\n",
    "qqq_prior_trainer = ModelTrainer(\"prior_ratio\", model_options=model_options, decay_modes=\"qqq\",\n",
    "                                 cache_test=True, variables=\"3,5,6\", datadir=datadir, outdir=outdir)\n",
    "prior_ratio_models['qq']['inferred'] = qq_prior_trainer.load_trained_model()\n",
    "prior_ratio_models['qqq']['inferred'] = qqq_prior_trainer.load_trained_model()"
   ]
  },
  {
   "cell_type": "code",
   "execution_count": 3,
   "id": "a6b4d124-8b61-4b67-ad3c-ae4fb5d1a867",
   "metadata": {},
   "outputs": [],
   "source": [
    "weights = {\n",
    "    'm1': m1 / 100,\n",
    "    'm2': m2 / 100,\n",
    "    'mu': np.log(mu),\n",
    "    'alpha': alpha\n",
    "}\n",
    "ModelLoader.set_model_weights(ws_model, weights)"
   ]
  },
  {
   "cell_type": "code",
   "execution_count": 4,
   "id": "f65b7947-4b70-4831-913f-bebea2e05a74",
   "metadata": {},
   "outputs": [
    {
     "name": "stderr",
     "output_type": "stream",
     "text": [
      "2024-10-04 19:09:03.943488: W tensorflow/core/framework/dataset.cc:959] Input of GeneratorDatasetOp::Dataset will not be optimized because the dataset does not implement the AsGraphDefInternal() method needed to apply optimizations.\n"
     ]
    },
    {
     "name": "stdout",
     "output_type": "stream",
     "text": [
      "11488/11488 [==============================] - 11s 910us/step\n",
      "11488/11488 [==============================] - 11s 900us/step\n",
      "11488/11488 [==============================] - 12s 1ms/step\n"
     ]
    }
   ],
   "source": [
    "x = np.concatenate([d[0][0] for d in datasets['train']])\n",
    "y_true = np.concatenate([d[1] for d in datasets['train']]).flatten()\n",
    "y_pred_2 = fs2_model.predict(x).flatten()\n",
    "y_pred_3 = fs3_model.predict(x).flatten()\n",
    "y_pred = ws_model.predict(x).flatten()\n",
    "data_mask = y_true == 1\n",
    "ref_mask = y_true == 0"
   ]
  },
  {
   "cell_type": "code",
   "execution_count": 40,
   "id": "c9dc60b5-db79-408d-a08d-5a67d4f6b883",
   "metadata": {},
   "outputs": [],
   "source": [
    "from keras.models import Model"
   ]
  },
  {
   "cell_type": "code",
   "execution_count": 42,
   "id": "9e07d2ae-a622-42f9-a655-e75dafe6c875",
   "metadata": {},
   "outputs": [
    {
     "data": {
      "text/plain": [
       "<keras.src.engine.functional.Functional at 0x7fd44021b1d0>"
      ]
     },
     "execution_count": 42,
     "metadata": {},
     "output_type": "execute_result"
    }
   ],
   "source": [
    "prior_ratio_models['qq']['sampled']"
   ]
  },
  {
   "cell_type": "code",
   "execution_count": 41,
   "id": "be3d3437-aacc-466d-8aec-48f6c101f9ad",
   "metadata": {},
   "outputs": [
    {
     "data": {
      "text/plain": [
       "True"
      ]
     },
     "execution_count": 41,
     "metadata": {},
     "output_type": "execute_result"
    }
   ],
   "source": [
    "isinstance(prior_ratio_models['qq']['sampled'], Model)"
   ]
  },
  {
   "cell_type": "code",
   "execution_count": 5,
   "id": "25821ac7-c19d-44b6-88ae-4a2c8e5b6751",
   "metadata": {},
   "outputs": [
    {
     "name": "stdout",
     "output_type": "stream",
     "text": [
      "1/1 [==============================] - 0s 110ms/step\n",
      "1/1 [==============================] - 0s 114ms/step\n"
     ]
    }
   ],
   "source": [
    "kappa_2 = prior_ratio_models['qq']['sampled'].predict([[m1, m2]]).flatten()[0]\n",
    "kappa_3 = prior_ratio_models['qqq']['sampled'].predict([[m1, m2]]).flatten()[0]"
   ]
  },
  {
   "cell_type": "code",
   "execution_count": 27,
   "id": "4bd46df2-3548-4d0f-bf38-06811156dcaa",
   "metadata": {},
   "outputs": [],
   "source": [
    "def get_nll(y_true, y_pred_2, y_pred_3, mu, alpha, kappa_2=1.0, kappa_3=1.0):\n",
    "    l2 = kappa_2 * (y_pred_2 / (1 - y_pred_2))\n",
    "    l3 = kappa_3 * (y_pred_3 / (1 - y_pred_3))\n",
    "    likelihood = mu * (alpha * l3 + (1 - alpha) * l2) + 1 - mu\n",
    "    nll =  np.mean(- y_true * np.log(likelihood))\n",
    "    return nll"
   ]
  },
  {
   "cell_type": "code",
   "execution_count": 38,
   "id": "3d649953-3a8c-4639-a961-5a73e1e4f79d",
   "metadata": {},
   "outputs": [
    {
     "data": {
      "text/plain": [
       "-0.0009066277261685631"
      ]
     },
     "execution_count": 38,
     "metadata": {},
     "output_type": "execute_result"
    }
   ],
   "source": [
    "mu_test = 0.003\n",
    "get_nll(y_true, y_pred_2, y_pred_3, mu=mu_test, alpha=alpha, kappa_2=kappa_2, kappa_3=kappa_3).min()"
   ]
  },
  {
   "cell_type": "code",
   "execution_count": 17,
   "id": "28a2796d-bf94-47f4-a8f3-2eb8505a51af",
   "metadata": {},
   "outputs": [
    {
     "data": {
      "text/plain": [
       "-4.903601169586182"
      ]
     },
     "execution_count": 17,
     "metadata": {},
     "output_type": "execute_result"
    }
   ],
   "source": [
    "nll.min()"
   ]
  },
  {
   "cell_type": "code",
   "execution_count": 18,
   "id": "46f4af49-5f85-4e94-a4e3-51c0e0893536",
   "metadata": {},
   "outputs": [
    {
     "data": {
      "text/plain": [
       "0.003"
      ]
     },
     "execution_count": 18,
     "metadata": {},
     "output_type": "execute_result"
    }
   ],
   "source": [
    "mu"
   ]
  },
  {
   "cell_type": "code",
   "execution_count": null,
   "id": "532656d5-ee9a-4fcb-8a1e-d02c15102b09",
   "metadata": {},
   "outputs": [],
   "source": []
  },
  {
   "cell_type": "code",
   "execution_count": 1,
   "id": "21c5f858-8377-49ae-a9bc-43c93a3d6e53",
   "metadata": {},
   "outputs": [],
   "source": [
    "def get_bce(y_true, y_pred_2, y_pred_3, mu, alpha, kappa=1.0, nu=1.0, vectorize: bool = False):\n",
    "    L2 = kappa * y_pred_2 / (1 - y_pred_2)\n",
    "    L3 = nu * y_pred_3 / (1 - y_pred_3)\n",
    "    ws = (mu * (alpha * L3  + (1 - alpha) * L2 ) + 1 - mu) / (mu * (alpha * L3 + (1 - alpha) * L2) +2 - 2 *mu)\n",
    "    axis = 1 if vectorize else None\n",
    "    return (np.mean(-(y_true * np.log(ws) + (1 - y_true) * np.log(1 - ws)), axis=axis) - np.log(2)) * 1e5"
   ]
  },
  {
   "cell_type": "code",
   "execution_count": 112,
   "id": "036f0ec3-2951-4992-af30-bea341a51fc6",
   "metadata": {},
   "outputs": [],
   "source": [
    "import numpy as np\n",
    "\n",
    "alpha_list = np.arange(0, 1, 0.02)\n",
    "mu_list = np.exp(np.arange(-8, -2, 0.1))\n",
    "\n",
    "alpha_grid, mu_grid = np.meshgrid(alpha_list, mu_list)\n",
    "mu_all = mu_grid.reshape(-1, 1)\n",
    "alpha_all = alpha_grid.reshape(-1, 1)"
   ]
  },
  {
   "cell_type": "code",
   "execution_count": 114,
   "id": "7e2373fb-4e22-4379-9e50-b5cb002181a9",
   "metadata": {
    "scrolled": true
   },
   "outputs": [
    {
     "name": "stdout",
     "output_type": "stream",
     "text": [
      "batch 1 / 6\n",
      "batch 2 / 6\n",
      "batch 3 / 6\n",
      "batch 4 / 6\n",
      "batch 5 / 6\n",
      "batch 6 / 6\n"
     ]
    }
   ],
   "source": [
    "from quickstats.maths.numerics import get_nbatch\n",
    "results = {\n",
    "    'mu': np.array([]),\n",
    "    'alpha': np.array([]),\n",
    "    'loss': np.array([])\n",
    "}\n",
    "batchsize = 500\n",
    "nbatch = get_nbatch(mu_all.shape[0], batchsize)\n",
    "y_pred_2_all = None\n",
    "y_pred_3_all = None\n",
    "y_true_all = None\n",
    "for i in range(nbatch):\n",
    "    print(f'batch {i+1} / {nbatch}')\n",
    "    mu_sub = mu_all[i * batchsize : (i + 1) * batchsize]\n",
    "    alpha_sub = alpha_all[i * batchsize : (i + 1) * batchsize]\n",
    "    if (y_pred_2_all is None) or (y_pred_2_all.shape[0] != mu_sub.shape[0]):\n",
    "        y_pred_2_all = np.tile(y_pred_2, (mu_sub.shape[0], 1))\n",
    "        y_pred_3_all = np.tile(y_pred_3, (mu_sub.shape[0], 1))\n",
    "        y_true_all = np.tile(y_true, (mu_sub.shape[0], 1))\n",
    "    losses = get_bce_vectorized(y_true_all, y_pred_2_all, y_pred_3_all, mu_sub, alpha_sub, kappa=7.2, nu=7.76)\n",
    "    results['mu'] = np.concatenate([results['mu'], mu_sub.flatten()])\n",
    "    results['alpha'] = np.concatenate([results['alpha'], alpha_sub.flatten()])\n",
    "    results['loss'] = np.concatenate([results['loss'], losses.flatten()])"
   ]
  },
  {
   "cell_type": "code",
   "execution_count": null,
   "id": "b48cef64-32f1-4c33-95b1-3892bb68d212",
   "metadata": {},
   "outputs": [],
   "source": []
  },
  {
   "cell_type": "code",
   "execution_count": null,
   "id": "3814d9be-510e-4cc0-85fe-0ac04d4a79de",
   "metadata": {},
   "outputs": [],
   "source": []
  },
  {
   "cell_type": "code",
   "execution_count": null,
   "id": "6443f88a-628c-4e3a-8cae-f329d2ba9c2e",
   "metadata": {},
   "outputs": [],
   "source": []
  },
  {
   "cell_type": "code",
   "execution_count": 14,
   "id": "b4aa6d00-4717-486a-9c23-03293cdeaf3e",
   "metadata": {},
   "outputs": [],
   "source": [
    "import pandas as pd\n",
    "from quickstats.plots import VariableDistributionPlot\n",
    "\n",
    "df_data = pd.DataFrame({\n",
    "    'm1': x_data[:, 0, 0] * 1000,\n",
    "    'm2': x_data[:, 1, 0] * 1000,\n",
    "    'y_pred': y_data,\n",
    "    'tau12_j1': x_data[:, 0, 1],\n",
    "    'weight': np.ones(y_data.shape)\n",
    "})\n",
    "\n",
    "df_ref = pd.DataFrame({\n",
    "    'm1': x_ref[:, 0, 0] * 1000,\n",
    "    'm2': x_ref[:, 1, 0] * 1000,\n",
    "    'y_pred': y_ref,\n",
    "    'tau12_j1': x_ref[:, 0, 1],\n",
    "    'weight': np.ones(y_ref.shape)\n",
    "})\n",
    "\n",
    "df_ref_rw = pd.DataFrame({\n",
    "    'm1': x_ref[:, 0, 0] * 1000,\n",
    "    'm2': x_ref[:, 1, 0] * 1000,\n",
    "    'y_pred': y_ref,\n",
    "    'tau12_j1': x_ref[:, 0, 1],\n",
    "    'weight': reweight_factor\n",
    "})\n",
    "\n",
    "analysis_label_options = {\n",
    "    'extra_text': r'$(m_X, m_Y) = (300, 300) GeV$//'\n",
    "}\n",
    "\n",
    "dfs = {\n",
    "    'Data': df_data,\n",
    "    'Reference': df_ref,\n",
    "    'Reference Reweighted': df_ref_rw\n",
    "}\n",
    "\n",
    "plotter = VariableDistributionPlot(dfs, analysis_label_options=analysis_label_options)"
   ]
  },
  {
   "cell_type": "code",
   "execution_count": 15,
   "id": "6912e801-4ac7-4318-9dc3-17e8536535a6",
   "metadata": {},
   "outputs": [
    {
     "data": {
      "text/plain": [
       "<Axes: xlabel='$m_X$ [GeV]', ylabel='Fraction of Events / 25.00'>"
      ]
     },
     "execution_count": 15,
     "metadata": {},
     "output_type": "execute_result"
    },
    {
     "data": {
      "text/plain": [
       "<Figure size 640x480 with 0 Axes>"
      ]
     },
     "metadata": {},
     "output_type": "display_data"
    },
    {
     "data": {
      "image/png": "[encoded data removed]",
      "text/plain": [
       "<Figure size 799.992x599.976 with 1 Axes>"
      ]
     },
     "metadata": {},
     "output_type": "display_data"
    }
   ],
   "source": [
    "plotter.draw('m1', weight_name='weight', xlabel='$m_X$ [GeV]',\n",
    "             #targets=['Data', 'Reference', 'Reference Reweighted'],\n",
    "             targets=['Data', 'Reference Reweighted'],\n",
    "             #targets=['Reference', 'Reference Reweighted'],\n",
    "             bin_range=(0, 1000), bins = 40, ypad=0.25, normalize=True)"
   ]
  },
  {
   "cell_type": "code",
   "execution_count": 16,
   "id": "47604386-c1c0-4ff6-860d-0cc2d4f2dd61",
   "metadata": {},
   "outputs": [
    {
     "data": {
      "text/plain": [
       "<Axes: xlabel='$m_Y$ [GeV]', ylabel='Fraction of Events / 25.00'>"
      ]
     },
     "execution_count": 16,
     "metadata": {},
     "output_type": "execute_result"
    },
    {
     "data": {
      "text/plain": [
       "<Figure size 640x480 with 0 Axes>"
      ]
     },
     "metadata": {},
     "output_type": "display_data"
    },
    {
     "data": {
      "image/png": "[encoded data removed]",
      "text/plain": [
       "<Figure size 799.992x599.976 with 1 Axes>"
      ]
     },
     "metadata": {},
     "output_type": "display_data"
    }
   ],
   "source": [
    "plotter.draw('m2', weight_name='weight', xlabel='$m_Y$ [GeV]',\n",
    "             #targets=['Data', 'Reference', 'Reference Reweighted'],\n",
    "             targets=['Data', 'Reference Reweighted'],\n",
    "             #targets=['Reference', 'Reference Reweighted'],\n",
    "             bin_range=(0, 1000), bins = 40, ypad=0.25, normalize=True)"
   ]
  },
  {
   "cell_type": "markdown",
   "id": "2c979b25-065b-4163-b431-05daf3f7101f",
   "metadata": {},
   "source": [
    "## It does something, but clearly something is off!\n",
    "\n",
    "- Some scaling is off..."
   ]
  },
  {
   "cell_type": "code",
   "execution_count": 390,
   "id": "1aacfa11-d308-4246-8f95-d8993eab45a5",
   "metadata": {
    "scrolled": true
   },
   "outputs": [
    {
     "name": "stdout",
     "output_type": "stream",
     "text": [
      "INFO:tensorflow:Using MirroredStrategy with devices ('/job:localhost/replica:0/task:0/device:CPU:0',)\n",
      "[INFO] Created MirroredStrategy for distributed training\n",
      "[INFO] Number of devices : 1\n",
      "[INFO]      aliad version : 0.1.0\n",
      "[INFO] tensorflow version : 2.15.0\n",
      "Sat Sep 28 04:27:35 2024       \n",
      "+-----------------------------------------------------------------------------+\n",
      "| NVIDIA-SMI 525.105.17   Driver Version: 525.105.17   CUDA Version: 12.2     |\n",
      "|-------------------------------+----------------------+----------------------+\n",
      "| GPU  Name        Persistence-M| Bus-Id        Disp.A | Volatile Uncorr. ECC |\n",
      "| Fan  Temp  Perf  Pwr:Usage/Cap|         Memory-Usage | GPU-Util  Compute M. |\n",
      "|                               |                      |               MIG M. |\n",
      "|===============================+======================+======================|\n",
      "|   0  NVIDIA A100-PCI...  On   | 00000000:C3:00.0 Off |                    0 |\n",
      "| N/A   33C    P0    33W / 250W |      2MiB / 40960MiB |      0%      Default |\n",
      "|                               |                      |             Disabled |\n",
      "+-------------------------------+----------------------+----------------------+\n",
      "                                                                               \n",
      "+-----------------------------------------------------------------------------+\n",
      "| Processes:                                                                  |\n",
      "|  GPU   GI   CI        PID   Type   Process name                  GPU Memory |\n",
      "|        ID   ID                                                   Usage      |\n",
      "|=============================================================================|\n",
      "|  No running processes found                                                 |\n",
      "+-----------------------------------------------------------------------------+\n",
      "nvcc: NVIDIA (R) Cuda compiler driver\n",
      "Copyright (c) 2005-2023 NVIDIA Corporation\n",
      "Built on Tue_Jun_13_19:16:58_PDT_2023\n",
      "Cuda compilation tools, release 12.2, V12.2.91\n",
      "Build cuda_12.2.r12.2/compiler.32965470_0\n",
      "[INFO] Number of events in each dataset split:\n",
      "                              train     val    test\n",
      "QCD + extra_QCD (label = 0)  183530   91787       0\n",
      "QCD + extra_QCD (label = 1)  183530   91787       0\n",
      "W_qq                          20392   10198   18625\n",
      "W_qqq                             0       0   19050\n",
      "QCD                               0       0   30350\n",
      "extra_QCD                         0       0  153225\n",
      "total                        387452  193772  221250\n",
      "num_batch                       379     190     217\n"
     ]
    }
   ],
   "source": [
    "import numpy as np\n",
    "import pandas as pd\n",
    "from paws.components import ModelTrainer, ModelLoader, MetricLandscape\n",
    "\n",
    "datadir = \"/pscratch/sd/c/chlcheng/projects/paws/datasets\"\n",
    "outdir = \"/pscratch/sd/c/chlcheng/projects/paws/outputs\"\n",
    "\n",
    "m1, m2 = 300, 300\n",
    "mu = 0.1\n",
    "alpha = 0\n",
    "\n",
    "# declare options to create the weakly datasets\n",
    "model_options = {\n",
    "    \"mass_point\": [m1, m2],\n",
    "    \"mu\": mu,\n",
    "    \"alpha\": alpha\n",
    "}\n",
    "\n",
    "model_trainer = ModelTrainer(\"semi_weakly\", model_options=model_options, decay_modes=\"qq,qqq\",\n",
    "                             cache_test=True, variables=\"3,5,6\", datadir=datadir, outdir=outdir)\n",
    "datasets = model_trainer.get_datasets()\n",
    "ws_model = model_trainer.get_model()\n",
    "fs2_model = model_trainer.model_loader.fs_2_model\n",
    "fs3_model = model_trainer.model_loader.fs_3_model"
   ]
  },
  {
   "cell_type": "code",
   "execution_count": 391,
   "id": "5364ed0f-9e37-4b92-98db-88b15c49d7fe",
   "metadata": {},
   "outputs": [],
   "source": [
    "weights = {\n",
    "    'm1': 3.0,\n",
    "    'm2': 3.0\n",
    "}\n",
    "ModelLoader.set_model_weights(fs2_model, weights)\n",
    "ModelLoader.set_model_weights(fs3_model, weights)"
   ]
  },
  {
   "cell_type": "code",
   "execution_count": 403,
   "id": "627418cf-1bac-4e2b-a028-8d1722338b8d",
   "metadata": {
    "scrolled": true
   },
   "outputs": [
    {
     "name": "stderr",
     "output_type": "stream",
     "text": [
      "2024-09-28 04:29:44.721292: W tensorflow/core/framework/dataset.cc:959] Input of GeneratorDatasetOp::Dataset will not be optimized because the dataset does not implement the AsGraphDefInternal() method needed to apply optimizations.\n"
     ]
    },
    {
     "name": "stdout",
     "output_type": "stream",
     "text": [
      "190/190 [==============================] - 1s 2ms/step\n",
      "190/190 [==============================] - 1s 2ms/step\n"
     ]
    }
   ],
   "source": [
    "y2_pred = fs2_model.predict(datasets['val']).flatten()\n",
    "y3_pred = fs3_model.predict(datasets['val']).flatten()"
   ]
  },
  {
   "cell_type": "code",
   "execution_count": 404,
   "id": "c12c0e6a-2d5c-4bb7-adcd-d74f01fac57b",
   "metadata": {},
   "outputs": [],
   "source": [
    "x = np.concatenate([d[0][0] for d in datasets['val']])\n",
    "y_true = np.concatenate([d[1] for d in datasets['val']]).flatten()\n",
    "l2 = y2_pred / (1 - y2_pred)\n",
    "l3 = y3_pred / (1 - y3_pred)"
   ]
  },
  {
   "cell_type": "code",
   "execution_count": 405,
   "id": "5f2e7edf-cb27-47e7-b41c-0ab3e0dafcef",
   "metadata": {},
   "outputs": [
    {
     "data": {
      "text/plain": [
       "7.056085473703082"
      ]
     },
     "execution_count": 405,
     "metadata": {},
     "output_type": "execute_result"
    }
   ],
   "source": [
    "ref_mask = y_true == 0\n",
    "l2[ref_mask].shape[0] / l2[ref_mask].sum()"
   ]
  },
  {
   "cell_type": "code",
   "execution_count": 395,
   "id": "e15f36e3-09d3-4982-8120-fd490f901c29",
   "metadata": {},
   "outputs": [],
   "source": [
    "from sklearn.metrics import log_loss\n",
    "def get_loss(mu, kappa, y_true):\n",
    "    ws = (mu * l2 * kappa + 1 - mu) / (mu * l2 * kappa + 2 - 2 * mu)\n",
    "    return log_loss(y_true, ws) - np.log(2)"
   ]
  },
  {
   "cell_type": "code",
   "execution_count": 399,
   "id": "072d105e-a7a2-4289-8e0e-19b2a22ca24e",
   "metadata": {},
   "outputs": [],
   "source": [
    "mu_list = np.arange(0.01, 0.2, 0.0002)\n",
    "kappa_list = [10.81]\n",
    "results = []\n",
    "for mu in mu_list:\n",
    "    for kappa in kappa_list:\n",
    "        losses = get_loss(mu, kappa, y_true)\n",
    "        results.append({\n",
    "            'mu': mu,\n",
    "            'kappa': kappa,\n",
    "            'loss': losses\n",
    "        })"
   ]
  },
  {
   "cell_type": "code",
   "execution_count": 400,
   "id": "f10e9f53-1d2a-41a3-89b6-aa1deeb79160",
   "metadata": {},
   "outputs": [
    {
     "data": {
      "text/plain": [
       "344"
      ]
     },
     "execution_count": 400,
     "metadata": {},
     "output_type": "execute_result"
    }
   ],
   "source": [
    "import pandas as pd\n",
    "df = pd.DataFrame(results)\n",
    "df['loss'].argmin()"
   ]
  },
  {
   "cell_type": "code",
   "execution_count": 401,
   "id": "0022e67e-63cd-47f8-a08f-0ee6a69ecb39",
   "metadata": {},
   "outputs": [
    {
     "data": {
      "text/plain": [
       "mu        0.078800\n",
       "kappa    10.810000\n",
       "loss     -0.027121\n",
       "Name: 344, dtype: float64"
      ]
     },
     "execution_count": 401,
     "metadata": {},
     "output_type": "execute_result"
    }
   ],
   "source": [
    "df.loc[df['loss'].argmin()]"
   ]
  },
  {
   "cell_type": "code",
   "execution_count": 329,
   "id": "14e11aed-adeb-4c13-814b-71061f71ead2",
   "metadata": {},
   "outputs": [
    {
     "data": {
      "text/plain": [
       "0.0001"
      ]
     },
     "execution_count": 329,
     "metadata": {},
     "output_type": "execute_result"
    }
   ],
   "source": [
    "mu_list[np.argmin(losses)]"
   ]
  },
  {
   "cell_type": "code",
   "execution_count": 388,
   "id": "580b676c-bcc4-41f5-b3bd-d3723fa7d02d",
   "metadata": {},
   "outputs": [
    {
     "data": {
      "text/plain": [
       "-5.637994734118198"
      ]
     },
     "execution_count": 388,
     "metadata": {},
     "output_type": "execute_result"
    }
   ],
   "source": [
    "np.log(0.003560)"
   ]
  },
  {
   "cell_type": "code",
   "execution_count": 389,
   "id": "edef42ea-13a7-4db4-9a3b-47e2ad5bcdc4",
   "metadata": {},
   "outputs": [
    {
     "data": {
      "text/plain": [
       "-5.809142990314028"
      ]
     },
     "execution_count": 389,
     "metadata": {},
     "output_type": "execute_result"
    }
   ],
   "source": [
    "np.log(0.003)"
   ]
  },
  {
   "cell_type": "code",
   "execution_count": 740,
   "id": "5cfa4a93-755f-4b0a-b815-cab37406fe1e",
   "metadata": {},
   "outputs": [],
   "source": [
    "data_mask = y_true == 1\n",
    "ref_mask = y_true == 0\n",
    "l2_norm = (l2 / l2[ref_mask].sum()) * l2[ref_mask].shape[0]\n",
    "l3_norm = (l3 / l3[ref_mask].sum()) * l3[ref_mask].shape[0]"
   ]
  },
  {
   "cell_type": "code",
   "execution_count": 741,
   "id": "d254dd87-5dfa-4547-a661-c09b41e0590a",
   "metadata": {},
   "outputs": [],
   "source": [
    "import matplotlib.pyplot as plt\n",
    "ws = (mu * l2 + (1 - mu)) / (mu * l2 + (2 - mu))\n",
    "ws_norm = (mu * l2_norm + (1 - mu)) / (mu * l2_norm + (2 - mu))"
   ]
  },
  {
   "cell_type": "code",
   "execution_count": 702,
   "id": "99c8b059-e4b0-4e2b-9a6e-25c92bb8fdad",
   "metadata": {},
   "outputs": [],
   "source": [
    "sf2_ref = l2[ref_mask].shape[0] / l2[ref_mask].sum()\n",
    "sf3_ref = l3[ref_mask].shape[0] / l3[ref_mask].sum()\n",
    "\n",
    "sf2_data = l2[data_mask].shape[0] / l2[data_mask].sum()\n",
    "sf3_data = l3[data_mask].shape[0] / l3[data_mask].sum()"
   ]
  },
  {
   "cell_type": "code",
   "execution_count": 684,
   "id": "90fafcca-f012-461a-be6f-306af7626d37",
   "metadata": {},
   "outputs": [],
   "source": [
    "ws_orig = (mu * (alpha * l2 + (1-alpha) * l3) + (1 - mu)) / (mu * (alpha * l2 + (1-alpha) * l3) + (2 - mu))\n",
    "ws = (mu * (alpha * l3_norm + (1 - alpha) * l2_norm) + (1 - mu)) / (mu * (alpha * l3_norm + (1 - alpha) * l2_norm)+ (2 - mu))"
   ]
  },
  {
   "cell_type": "code",
   "execution_count": 685,
   "id": "a227e2be-42a4-4e9d-a94a-2b4aae2eb4af",
   "metadata": {},
   "outputs": [],
   "source": [
    "from sklearn.metrics import log_loss"
   ]
  },
  {
   "cell_type": "code",
   "execution_count": 690,
   "id": "3f510301-6c31-40e6-8e4a-091921d99777",
   "metadata": {},
   "outputs": [],
   "source": [
    "def get_loss(mu, alpha):\n",
    "    A = l3 * (y_true * sf3_data + (1 - y_true) *sf3_ref)\n",
    "    B = l2 * (y_true * sf2_data + (1 - y_true) *sf2_ref)\n",
    "    C = mu * (alpha * A + (1 - alpha) * B)\n",
    "    ws_ = (C + (1 - mu)) / (C + (2 - mu))\n",
    "    return log_loss(y_true, ws_) - np.log(2)\n",
    "\n",
    "def get_loss_orig(mu, alpha):\n",
    "    ws_ = (mu * (alpha * l3 + (1 - alpha) * l2) + (1 - mu)) / (mu * (alpha * l3 + (1 - alpha) * l2)+ (2 - mu))\n",
    "    return log_loss(y_true, ws_) - np.log(2)\n",
    "\n",
    "def get_loss(mu, alpha, kappa):\n",
    "    A = mu * l2 * kappa\n",
    "    ws_ = (A + (1 - mu)) / (A + (2 - mu))\n",
    "    return log_loss(y_true, ws_) - np.log(2)\n",
    "\n",
    "#def get_loss(mu, alpha=0):\n",
    "#    ws_ = (mu  * l2_norm + (1 - mu)) / (mu  * l2_norm+ (2 - mu))\n",
    "#    return log_loss(y_true, ws_) - np.log(2)"
   ]
  },
  {
   "cell_type": "code",
   "execution_count": 479,
   "id": "5e400ce4-bd01-4c86-9ea7-8e43435758fd",
   "metadata": {},
   "outputs": [],
   "source": [
    "data_mask = y_true == 1\n",
    "ref_mask = y_true == 0\n",
    "x_data, x_ref = x[data_mask], x[ref_mask]\n",
    "y2_data, y2_ref = y2_pred[data_mask], y2_pred[ref_mask]\n",
    "y3_data, y3_ref = y3_pred[data_mask], y3_pred[ref_mask]\n",
    "l2_data, l2_ref = l2[data_mask], l2[ref_mask]\n",
    "l3_data, l3_ref = l3[data_mask], l3[ref_mask]"
   ]
  },
  {
   "cell_type": "code",
   "execution_count": 509,
   "id": "a97f9ab7-9a29-4cbe-8b86-bfe420a38b83",
   "metadata": {},
   "outputs": [],
   "source": [
    "import pandas as pd\n",
    "from quickstats.plots import VariableDistributionPlot\n",
    "\n",
    "df_data = pd.DataFrame({\n",
    "    'm1': x_data[:, 0, 0] * 1000,\n",
    "    'm2': x_data[:, 1, 0] * 1000,\n",
    "    'y_pred': y_data,\n",
    "    'tau12_j1': x_data[:, 0, 1],\n",
    "    'weight': np.ones(y_data.shape)\n",
    "})\n",
    "\n",
    "df_ref = pd.DataFrame({\n",
    "    'm1': x_ref[:, 0, 0] * 1000,\n",
    "    'm2': x_ref[:, 1, 0] * 1000,\n",
    "    'y_pred': y_ref,\n",
    "    'tau12_j1': x_ref[:, 0, 1],\n",
    "    'weight': np.ones(y_ref.shape)\n",
    "})\n",
    "\n",
    "df_ref_rw = pd.DataFrame({\n",
    "    'm1': x_ref[:, 0, 0] * 1000,\n",
    "    'm2': x_ref[:, 1, 0] * 1000,\n",
    "    'y_pred': y_ref,\n",
    "    'tau12_j1': x_ref[:, 0, 1],\n",
    "    'weight': ws[ref_mask] / (1 - ws[ref_mask])\n",
    "    #'weight': mu * (alpha * l2_ref / l2_ref.sum() + (1 - alpha) * l3_ref / l3_ref.sum()) * y_ref.shape[0] + (1 - mu)\n",
    "    #np.concatenate([mu * l_bkg[:nb], np.ones(nb) * (1 - mu)])\n",
    "})\n",
    "\n",
    "df_data_rw = pd.DataFrame({\n",
    "    'm1': x_data[:, 0, 0] * 1000,\n",
    "    'm2': x_data[:, 1, 0] * 1000,\n",
    "    'y_pred': y_data,\n",
    "    'tau12_j1': x_data[:, 0, 1],\n",
    "    'weight': 1 / (mu * (alpha * l2_data / l2_data.sum() + alpha * l3_data / l3_data.sum()) * y_data.shape[0] + (1 - mu))\n",
    "})\n",
    "\n",
    "analysis_label_options = {\n",
    "    'extra_text': r'$(m_X, m_Y) = (300, 300) GeV$//'\n",
    "}\n",
    "\n",
    "dfs = {\n",
    "    'Data': df_data,\n",
    "    'Reference': df_ref,\n",
    "    'Reference Reweighted': df_ref_rw,\n",
    "    'Data Reweighted': df_data_rw\n",
    "}\n",
    "\n",
    "plotter = VariableDistributionPlot(dfs, analysis_label_options=analysis_label_options)"
   ]
  },
  {
   "cell_type": "code",
   "execution_count": 510,
   "id": "9c3b500b-68a0-4815-93fc-9d0beea91952",
   "metadata": {},
   "outputs": [
    {
     "data": {
      "text/plain": [
       "<Axes: xlabel='$m_X$ [GeV]', ylabel='Fraction of Events / 25.00'>"
      ]
     },
     "execution_count": 510,
     "metadata": {},
     "output_type": "execute_result"
    },
    {
     "data": {
      "text/plain": [
       "<Figure size 640x480 with 0 Axes>"
      ]
     },
     "metadata": {},
     "output_type": "display_data"
    },
    {
     "data": {
      "image/png": "[encoded data removed]",
      "text/plain": [
       "<Figure size 799.992x599.976 with 1 Axes>"
      ]
     },
     "metadata": {},
     "output_type": "display_data"
    }
   ],
   "source": [
    "plotter.draw('m1', weight_name='weight', xlabel='$m_X$ [GeV]',\n",
    "             #targets=['Data', 'Reference', 'Reference Reweighted'],\n",
    "             targets=['Data', 'Reference Reweighted'],\n",
    "             #targets=['Reference', 'Reference Reweighted'],\n",
    "             bin_range=(0, 1000), bins = 40, ypad=0.25, normalize=True)"
   ]
  },
  {
   "cell_type": "code",
   "execution_count": 370,
   "id": "6324a773-763d-4b8e-adb2-7380101010e5",
   "metadata": {},
   "outputs": [
    {
     "data": {
      "text/plain": [
       "<Axes: xlabel='$m_X$ [GeV]', ylabel='Fraction of Events / 25.00'>"
      ]
     },
     "execution_count": 370,
     "metadata": {},
     "output_type": "execute_result"
    },
    {
     "data": {
      "text/plain": [
       "<Figure size 640x480 with 0 Axes>"
      ]
     },
     "metadata": {},
     "output_type": "display_data"
    },
    {
     "data": {
      "image/png": "[encoded data removed]",
      "text/plain": [
       "<Figure size 799.992x599.976 with 1 Axes>"
      ]
     },
     "metadata": {},
     "output_type": "display_data"
    }
   ],
   "source": [
    "plotter.draw('m1', weight_name='weight', xlabel='$m_X$ [GeV]',\n",
    "             #targets=['Data', 'Reference', 'Reference Reweighted'],\n",
    "             targets=['Reference', 'Data Reweighted'],\n",
    "             #targets=['Reference', 'Reference Reweighted'],\n",
    "             bin_range=(0, 1000), bins = 40, ypad=0.25, normalize=True)"
   ]
  },
  {
   "cell_type": "markdown",
   "id": "33152f0c-6c72-4ebc-aeab-523c5e0f9dc9",
   "metadata": {},
   "source": [
    "$$\\dfrac{P_D(\\vec{x})}{P_R(\\vec{x})} = (1 - \\mu) \\dfrac{WS}{1 - WS}$$\n",
    "\n",
    "$$\\Lambda_{FS} = \\dfrac{N_B}{N_S} \\dfrac{FS}{1 - FS} = \\kappa(\\theta) \\dfrac{FS}{1 - FS}$$\n",
    "\n",
    "$$WS = \\dfrac{\\mu \\kappa(\\theta) \\frac{FS}{1 - FS} + 1 - \\mu}{\\mu \\kappa(\\theta) \\frac{FS}{1 - FS} + 2 (1 - \\mu)}$$\n",
    "\n",
    "$$WS = \\dfrac{\\mu (\\alpha \\kappa_3(\\theta) \\frac{FS_3}{1 - FS_3} + (1 - \\alpha)\\kappa_2(\\theta)\\frac{FS_2}{1 - FS_2}) + 1 - \\mu}{\\mu (\\alpha \\kappa_3(\\theta) \\frac{FS_3}{1 - FS_3} + (1 - \\alpha)\\kappa_2(\\theta)\\frac{FS_2}{1 - FS_2}) + 2 (1 - \\mu)}$$"
   ]
  },
  {
   "cell_type": "code",
   "execution_count": 1,
   "id": "15268252-3ef1-4667-bdad-ff82e8a10a75",
   "metadata": {},
   "outputs": [],
   "source": [
    "from paws.components import ModelLoader"
   ]
  },
  {
   "cell_type": "code",
   "execution_count": 2,
   "id": "c0a9620f-7912-450f-bfad-443249415633",
   "metadata": {},
   "outputs": [
    {
     "name": "stderr",
     "output_type": "stream",
     "text": [
      "2024-09-29 19:06:36.568957: E external/local_xla/xla/stream_executor/cuda/cuda_dnn.cc:9261] Unable to register cuDNN factory: Attempting to register factory for plugin cuDNN when one has already been registered\n",
      "2024-09-29 19:06:36.568990: E external/local_xla/xla/stream_executor/cuda/cuda_fft.cc:607] Unable to register cuFFT factory: Attempting to register factory for plugin cuFFT when one has already been registered\n",
      "2024-09-29 19:06:36.570541: E external/local_xla/xla/stream_executor/cuda/cuda_blas.cc:1515] Unable to register cuBLAS factory: Attempting to register factory for plugin cuBLAS when one has already been registered\n",
      "2024-09-29 19:06:36.579311: I tensorflow/core/platform/cpu_feature_guard.cc:182] This TensorFlow binary is optimized to use available CPU instructions in performance-critical operations.\n",
      "To enable the following instructions: AVX2 FMA, in other operations, rebuild TensorFlow with the appropriate compiler flags.\n",
      "2024-09-29 19:06:37.771804: W tensorflow/compiler/tf2tensorrt/utils/py_utils.cc:38] TF-TRT Warning: Could not find TensorRT\n",
      "2024-09-29 19:06:39.002656: W tensorflow/core/common_runtime/gpu/gpu_device.cc:2256] Cannot dlopen some GPU libraries. Please make sure the missing libraries mentioned above are installed properly if you would like to use GPU. Follow the guide at https://www.tensorflow.org/install/gpu for how to download and setup the required libraries for your platform.\n",
      "Skipping registering GPU devices...\n"
     ]
    }
   ],
   "source": [
    "model = ModelLoader.get_single_parameter_model(name='test', trainable=False)"
   ]
  },
  {
   "cell_type": "code",
   "execution_count": 3,
   "id": "a50e38a3-567e-45af-b53e-cba57be9234f",
   "metadata": {},
   "outputs": [
    {
     "data": {
      "text/plain": [
       "[<tf.Variable 'test/kernel:0' shape=(1, 1) dtype=float32, numpy=array([[1.6027085]], dtype=float32)>]"
      ]
     },
     "execution_count": 3,
     "metadata": {},
     "output_type": "execute_result"
    }
   ],
   "source": [
    "model.get_layer(name='test').weights"
   ]
  },
  {
   "cell_type": "code",
   "execution_count": 4,
   "id": "89b6a02e-ec28-4c49-9cf3-e371ec170e33",
   "metadata": {},
   "outputs": [],
   "source": [
    "weight = model.layers[1].weights[0]"
   ]
  },
  {
   "cell_type": "code",
   "execution_count": 5,
   "id": "60d4a7cc-2c11-4d5c-a531-6ed0105da0b0",
   "metadata": {},
   "outputs": [],
   "source": [
    "from aliad.interface.tensorflow import utils"
   ]
  },
  {
   "cell_type": "code",
   "execution_count": 6,
   "id": "d730de9d-cabe-401a-8a74-ac24ee68b7ca",
   "metadata": {},
   "outputs": [],
   "source": [
    "utils.assign_weight(weight, 1.0)"
   ]
  },
  {
   "cell_type": "code",
   "execution_count": 4,
   "id": "9107e7c6-911c-402a-a54b-c68da68c6b51",
   "metadata": {},
   "outputs": [
    {
     "data": {
      "text/plain": [
       "[]"
      ]
     },
     "execution_count": 4,
     "metadata": {},
     "output_type": "execute_result"
    }
   ],
   "source": [
    "model.trainable_weights"
   ]
  },
  {
   "cell_type": "code",
   "execution_count": 7,
   "id": "358310d8-7db4-4bfb-9633-67e670576824",
   "metadata": {},
   "outputs": [
    {
     "data": {
      "text/plain": [
       "False"
      ]
     },
     "execution_count": 7,
     "metadata": {},
     "output_type": "execute_result"
    }
   ],
   "source": [
    "model.layers[1].trainable"
   ]
  },
  {
   "cell_type": "code",
   "execution_count": 17,
   "id": "6dfdc8da-2555-4757-82db-8efb34f961db",
   "metadata": {},
   "outputs": [
    {
     "data": {
      "text/plain": [
       "<tf.Variable 'test/kernel:0' shape=(1, 1) dtype=float32, numpy=array([[1.]], dtype=float32)>"
      ]
     },
     "execution_count": 17,
     "metadata": {},
     "output_type": "execute_result"
    }
   ],
   "source": [
    "weight"
   ]
  },
  {
   "cell_type": "code",
   "execution_count": 16,
   "id": "543e3a80-d943-4585-b29c-13b6cbd373c4",
   "metadata": {},
   "outputs": [
    {
     "data": {
      "text/plain": [
       "<tf.Variable 'UnreadVariable' shape=(1, 1) dtype=float32, numpy=array([[1.]], dtype=float32)>"
      ]
     },
     "execution_count": 16,
     "metadata": {},
     "output_type": "execute_result"
    }
   ],
   "source": [
    "weight.assign(np.array(1.0).reshape(weight.shape))"
   ]
  },
  {
   "cell_type": "code",
   "execution_count": 19,
   "id": "1e5ea521-7273-4849-a3ad-8dcbd8141b67",
   "metadata": {},
   "outputs": [],
   "source": [
    "from numbers import Number"
   ]
  },
  {
   "cell_type": "code",
   "execution_count": 21,
   "id": "992df9ab-ee8d-44bd-bc64-37a9ac56e8c4",
   "metadata": {},
   "outputs": [
    {
     "data": {
      "text/plain": [
       "False"
      ]
     },
     "execution_count": 21,
     "metadata": {},
     "output_type": "execute_result"
    }
   ],
   "source": [
    "isinstance(np.array(1.0), Number)"
   ]
  },
  {
   "cell_type": "code",
   "execution_count": 23,
   "id": "9371b8b3-de19-4093-8170-4495b3c3addb",
   "metadata": {},
   "outputs": [
    {
     "ename": "ValueError",
     "evalue": "cannot reshape array of size 1 into shape (2,)",
     "output_type": "error",
     "traceback": [
      "\u001b[0;31m---------------------------------------------------------------------------\u001b[0m",
      "\u001b[0;31mValueError\u001b[0m                                Traceback (most recent call last)",
      "Cell \u001b[0;32mIn[23], line 1\u001b[0m\n\u001b[0;32m----> 1\u001b[0m \u001b[43mnp\u001b[49m\u001b[38;5;241;43m.\u001b[39;49m\u001b[43marray\u001b[49m\u001b[43m(\u001b[49m\u001b[38;5;241;43m1.0\u001b[39;49m\u001b[43m)\u001b[49m\u001b[38;5;241;43m.\u001b[39;49m\u001b[43mreshape\u001b[49m\u001b[43m(\u001b[49m\u001b[38;5;241;43m2\u001b[39;49m\u001b[43m)\u001b[49m\n",
      "\u001b[0;31mValueError\u001b[0m: cannot reshape array of size 1 into shape (2,)"
     ]
    }
   ],
   "source": [
    "np.array(1.0).reshape(2)"
   ]
  },
  {
   "cell_type": "code",
   "execution_count": null,
   "id": "b75d0928-7dcf-4b00-ae3d-f8db9e504519",
   "metadata": {},
   "outputs": [],
   "source": []
  }
 ],
 "metadata": {
  "kernelspec": {
   "display_name": "mllegacy",
   "language": "python",
   "name": "ml-legacy"
  },
  "language_info": {
   "codemirror_mode": {
    "name": "ipython",
    "version": 3
   },
   "file_extension": ".py",
   "mimetype": "text/x-python",
   "name": "python",
   "nbconvert_exporter": "python",
   "pygments_lexer": "ipython3",
   "version": "3.11.9"
  }
 },
 "nbformat": 4,
 "nbformat_minor": 5
}
