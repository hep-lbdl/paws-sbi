{
 "cells": [
  {
   "cell_type": "code",
   "execution_count": null,
   "id": "724f9fbe-0f5c-4469-95b1-4b8da13d7c4d",
   "metadata": {},
   "outputs": [],
   "source": [
    "filename = \"/pscratch/sd/c/chlcheng/projects/paws/outputs/landscapes/semi_weakly/high_level/SBI_mass_scan/mu_0p003_alpha_0p5/train/qq_qqq/landscape_300_300.json\"\n",
    "data = json.load(open(filename))['predictions']\n",
    "df = pd.DataFrame(data)\n",
    "df['qmu'] = 2 * (df['nll'] - df['nll'].min())\n",
    "df_i = df[df['qmu'] < 30]\n",
    "plotter = Likelihood2DPlot(df_i)\n",
    "plotter.add_highlight(3, 3, 'Truth')\n",
    "plotter.styles['contour']['colors'] = ['hh:darkblue', 'hh:darkblue']\n",
    "plotter.styles['contourf']['alpha']  = 0.5\n",
    "plotter.styles['contourf']['colors'] = ['#7ed3cd', '#fbdb80', '#ffb2b3']\n",
    "plotter.styles['contourf']['alpha']  = 0.7\n",
    "plotter.draw('m1', 'm2',\n",
    "             xlabel='$\\mathit{m}_X$ / 100 GeV',\n",
    "             ylabel='$\\mathit{m}_Y$ / 100 GeV',\n",
    "             xmin=2.85, xmax=3.1,\n",
    "             ymin=2.95, ymax=3.1,\n",
    "             draw_contourf=True,\n",
    "             interval_format='one_two_three_sigma', \n",
    "             title=r'$\\hat{\\mathit{m}}_X, \\hat{\\mathit{m}}_Y = (300, 300)\\,GeV\\,\\,\\,\\,\\,\\,\\hat{\\mathit{\\mu}}=0.3\\%$')\n",
    "outname = 'plots/likelihood_2D_scan_mx_my_300_300_mu_0p003.pdf'\n",
    "plt.savefig(outname, bbox_inches='tight')"
   ]
  },
  {
   "cell_type": "code",
   "execution_count": null,
   "id": "95a9a599-4c08-4dd1-8746-1cbf9c0a62e8",
   "metadata": {},
   "outputs": [],
   "source": [
    "filename = \"/pscratch/sd/c/chlcheng/projects/paws/outputs/landscapes/semi_weakly/high_level/SBI_mass_scan/mu_0p003_alpha_0p5/train/qq_qqq/landscape_100_500.json\"\n",
    "data = json.load(open(filename))['predictions']\n",
    "df = pd.DataFrame(data)\n",
    "df['qmu'] = 2 * (df['nll'] - df['nll'].min())\n",
    "df_i = df[df['qmu'] < 30]\n",
    "plotter = Likelihood2DPlot(df_i)\n",
    "plotter.add_highlight(1, 5, 'Truth')\n",
    "plotter.styles['contour']['colors'] = ['hh:darkblue', 'hh:darkblue']\n",
    "plotter.styles['contourf']['alpha']  = 0.5\n",
    "plotter.styles['contourf']['colors'] = ['#7ed3cd', '#fbdb80', '#ffb2b3']\n",
    "plotter.styles['contourf']['alpha']  = 0.7\n",
    "plotter.draw('m1', 'm2',\n",
    "             xlabel='$\\mathit{m}_X$ / 100 GeV',\n",
    "             ylabel='$\\mathit{m}_Y$ / 100 GeV',\n",
    "             draw_contourf=True,\n",
    "             xmin=0.95, xmax=1.15,\n",
    "             ymin=4.85, ymax=5.15,\n",
    "             interval_format='one_two_three_sigma', \n",
    "             title=r'$\\hat{\\mathit{m}}_X, \\hat{\\mathit{m}}_Y = (100, 500)\\,GeV\\,\\,\\,\\,\\,\\,\\hat{\\mathit{\\mu}}=0.3\\%$')"
   ]
  },
  {
   "cell_type": "code",
   "execution_count": null,
   "id": "21fb7a68-951c-4d02-a0a8-b2439a7ef4ba",
   "metadata": {},
   "outputs": [],
   "source": [
    "filename = \"/pscratch/sd/c/chlcheng/projects/paws/outputs/landscapes/semi_weakly/high_level/SBI_mu_alpha_scan/mu_0p003_alpha_0p5/train/qq_qqq/landscape_300_300.json\"\n",
    "data = json.load(open(filename))['predictions']\n",
    "df = pd.DataFrame(data)\n",
    "df['qmu'] = 2 * (df['nll'] - df['nll'].min())\n",
    "df_i = df[df['qmu'] < 30]\n",
    "plotter = Likelihood2DPlot(df_i)\n",
    "plotter.add_highlight(np.log(0.003), 0.5, 'Truth')\n",
    "plotter.styles['contour']['colors'] = ['hh:darkblue', 'hh:darkblue']\n",
    "plotter.styles['contourf']['alpha']  = 0.5\n",
    "plotter.styles['contourf']['colors'] = ['#7ed3cd', '#fbdb80', '#ffb2b3']\n",
    "plotter.styles['contourf']['alpha']  = 0.7\n",
    "plotter.draw('mu', 'alpha',\n",
    "             xlabel=r'$log(\\mathit{\\mu})$',\n",
    "             ylabel=r'$\\alpha$',\n",
    "             xmin=-6.2, xmax=-5.2,\n",
    "             ymin=0.2, ymax=0.85,\n",
    "             draw_contourf=True,\n",
    "             interval_format='one_two_three_sigma', \n",
    "             title=r'$\\hat{\\mathit{m}}_X, \\hat{\\mathit{m}}_Y = (300, 300)\\,GeV\\,\\,\\,\\,\\,\\,\\hat{\\mathit{\\mu}}=0.3\\%$')"
   ]
  },
  {
   "cell_type": "code",
   "execution_count": null,
   "id": "ab8bf1e5-7259-4019-a1e9-6013fa3c50e8",
   "metadata": {},
   "outputs": [],
   "source": [
    "filename = \"/pscratch/sd/c/chlcheng/projects/paws/outputs/landscapes/semi_weakly/high_level/SBI_mu_alpha_scan/mu_0p003_alpha_0p5/train/qq_qqq/landscape_100_500.json\"\n",
    "data = json.load(open(filename))['predictions']\n",
    "df = pd.DataFrame(data)\n",
    "df['qmu'] = 2 * (df['nll'] - df['nll'].min())\n",
    "df_i = df[df['qmu'] < 30]\n",
    "plotter = Likelihood2DPlot(df_i)\n",
    "plotter.add_highlight(np.log(0.003), 0.5, 'Truth')\n",
    "plotter.styles['contour']['colors'] = ['hh:darkblue', 'hh:darkblue']\n",
    "plotter.styles['contourf']['alpha']  = 0.5\n",
    "plotter.styles['contourf']['colors'] = ['#7ed3cd', '#fbdb80', '#ffb2b3']\n",
    "plotter.styles['contourf']['alpha']  = 0.7\n",
    "plotter.draw('mu', 'alpha',\n",
    "             xlabel=r'$log(\\mathit{\\mu})$',\n",
    "             ylabel=r'$\\alpha$',\n",
    "             xmin=-6.1, xmax=-5,\n",
    "             ymin=0.1, ymax=0.7,\n",
    "             draw_contourf=True,\n",
    "             interval_format='one_two_three_sigma', \n",
    "             title=r'$\\hat{\\mathit{m}}_X, \\hat{\\mathit{m}}_Y = (100, 500)\\,GeV\\,\\,\\,\\,\\,\\,\\hat{\\mathit{\\mu}}=0.3\\%$')"
   ]
  }
 ],
 "metadata": {
  "kernelspec": {
   "display_name": "Python 3 (ipykernel)",
   "language": "python",
   "name": "python3"
  },
  "language_info": {
   "codemirror_mode": {
    "name": "ipython",
    "version": 3
   },
   "file_extension": ".py",
   "mimetype": "text/x-python",
   "name": "python",
   "nbconvert_exporter": "python",
   "pygments_lexer": "ipython3",
   "version": "3.11.9"
  }
 },
 "nbformat": 4,
 "nbformat_minor": 5
}
